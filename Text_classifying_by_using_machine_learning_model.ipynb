{
  "nbformat": 4,
  "nbformat_minor": 0,
  "metadata": {
    "colab": {
      "name": "Text_classifying_by_using_machine_learning_model.ipynb",
      "version": "0.3.2",
      "provenance": [],
      "collapsed_sections": [],
      "include_colab_link": true
    },
    "kernelspec": {
      "name": "python3",
      "display_name": "Python 3"
    },
    "accelerator": "GPU"
  },
  "cells": [
    {
      "cell_type": "markdown",
      "metadata": {
        "id": "view-in-github",
        "colab_type": "text"
      },
      "source": [
        "<a href=\"https://colab.research.google.com/github/GomathyMeena/An-approach-for-classifying-text-using-machine-learning-models/blob/master/Text_classifying_by_using_machine_learning_model.ipynb\" target=\"_parent\"><img src=\"https://colab.research.google.com/assets/colab-badge.svg\" alt=\"Open In Colab\"/></a>"
      ]
    },
    {
      "metadata": {
        "id": "dMribTLrP2Wb",
        "colab_type": "code",
        "colab": {
          "base_uri": "https://localhost:8080/",
          "height": 34
        },
        "outputId": "d9bcb6f8-a5b7-4036-a34e-df15b83d370d"
      },
      "cell_type": "code",
      "source": [
        "from __future__ import absolute_import, division, print_function, unicode_literals\n",
        "\n",
        "import tensorflow as tf\n",
        "from tensorflow import keras\n",
        "\n",
        "import numpy as np\n",
        "\n",
        "print(tf.__version__)"
      ],
      "execution_count": 4,
      "outputs": [
        {
          "output_type": "stream",
          "text": [
            "1.13.1\n"
          ],
          "name": "stdout"
        }
      ]
    },
    {
      "metadata": {
        "id": "h2I51I4QP7eN",
        "colab_type": "code",
        "colab": {
          "base_uri": "https://localhost:8080/",
          "height": 51
        },
        "outputId": "a960aa03-89c7-4363-9bbe-9ad375b2ed43"
      },
      "cell_type": "code",
      "source": [
        "imdb = keras.datasets.imdb\n",
        "\n",
        "(train_data, train_labels), (test_data, test_labels) = imdb.load_data(num_words=10000)"
      ],
      "execution_count": 5,
      "outputs": [
        {
          "output_type": "stream",
          "text": [
            "Downloading data from https://storage.googleapis.com/tensorflow/tf-keras-datasets/imdb.npz\n",
            "17465344/17464789 [==============================] - 0s 0us/step\n"
          ],
          "name": "stdout"
        }
      ]
    },
    {
      "metadata": {
        "id": "XXqR6VulP7xt",
        "colab_type": "code",
        "colab": {
          "base_uri": "https://localhost:8080/",
          "height": 34
        },
        "outputId": "4006c72c-85cb-4e59-c793-45988c837816"
      },
      "cell_type": "code",
      "source": [
        "print(\"Training entries: {}, labels: {}\".format(len(train_data), len(train_labels)))"
      ],
      "execution_count": 6,
      "outputs": [
        {
          "output_type": "stream",
          "text": [
            "Training entries: 25000, labels: 25000\n"
          ],
          "name": "stdout"
        }
      ]
    },
    {
      "metadata": {
        "id": "lBM4__yKP74P",
        "colab_type": "code",
        "colab": {
          "base_uri": "https://localhost:8080/",
          "height": 54
        },
        "outputId": "e3a8b17c-742f-47c0-a2a0-7be4b8c884a6"
      },
      "cell_type": "code",
      "source": [
        "print(train_data[0])"
      ],
      "execution_count": 7,
      "outputs": [
        {
          "output_type": "stream",
          "text": [
            "[1, 14, 22, 16, 43, 530, 973, 1622, 1385, 65, 458, 4468, 66, 3941, 4, 173, 36, 256, 5, 25, 100, 43, 838, 112, 50, 670, 2, 9, 35, 480, 284, 5, 150, 4, 172, 112, 167, 2, 336, 385, 39, 4, 172, 4536, 1111, 17, 546, 38, 13, 447, 4, 192, 50, 16, 6, 147, 2025, 19, 14, 22, 4, 1920, 4613, 469, 4, 22, 71, 87, 12, 16, 43, 530, 38, 76, 15, 13, 1247, 4, 22, 17, 515, 17, 12, 16, 626, 18, 2, 5, 62, 386, 12, 8, 316, 8, 106, 5, 4, 2223, 5244, 16, 480, 66, 3785, 33, 4, 130, 12, 16, 38, 619, 5, 25, 124, 51, 36, 135, 48, 25, 1415, 33, 6, 22, 12, 215, 28, 77, 52, 5, 14, 407, 16, 82, 2, 8, 4, 107, 117, 5952, 15, 256, 4, 2, 7, 3766, 5, 723, 36, 71, 43, 530, 476, 26, 400, 317, 46, 7, 4, 2, 1029, 13, 104, 88, 4, 381, 15, 297, 98, 32, 2071, 56, 26, 141, 6, 194, 7486, 18, 4, 226, 22, 21, 134, 476, 26, 480, 5, 144, 30, 5535, 18, 51, 36, 28, 224, 92, 25, 104, 4, 226, 65, 16, 38, 1334, 88, 12, 16, 283, 5, 16, 4472, 113, 103, 32, 15, 16, 5345, 19, 178, 32]\n"
          ],
          "name": "stdout"
        }
      ]
    },
    {
      "metadata": {
        "id": "zJT8ZxivP761",
        "colab_type": "code",
        "colab": {
          "base_uri": "https://localhost:8080/",
          "height": 34
        },
        "outputId": "0f012f78-dae0-4082-c18d-ad33e80b207f"
      },
      "cell_type": "code",
      "source": [
        "len(train_data[0]), len(train_data[1])"
      ],
      "execution_count": 8,
      "outputs": [
        {
          "output_type": "execute_result",
          "data": {
            "text/plain": [
              "(218, 189)"
            ]
          },
          "metadata": {
            "tags": []
          },
          "execution_count": 8
        }
      ]
    },
    {
      "metadata": {
        "id": "ovrESsanP79V",
        "colab_type": "code",
        "colab": {}
      },
      "cell_type": "code",
      "source": [
        "# A dictionary mapping words to an integer index\n",
        "word_index = imdb.get_word_index()\n",
        "\n",
        "# The first indices are reserved\n",
        "word_index = {k:(v+3) for k,v in word_index.items()}\n",
        "word_index[\"<PAD>\"] = 0\n",
        "word_index[\"<START>\"] = 1\n",
        "word_index[\"<UNK>\"] = 2  # unknown\n",
        "word_index[\"<UNUSED>\"] = 3\n",
        "\n",
        "reverse_word_index = dict([(value, key) for (key, value) in word_index.items()])\n",
        "\n",
        "def decode_review(text):\n",
        "    return ' '.join([reverse_word_index.get(i, '?') for i in text])"
      ],
      "execution_count": 0,
      "outputs": []
    },
    {
      "metadata": {
        "id": "ctoeqfJ5P8Dd",
        "colab_type": "code",
        "colab": {
          "base_uri": "https://localhost:8080/",
          "height": 54
        },
        "outputId": "61e4ef02-805d-4991-d8bf-0a9af1cb2bf9"
      },
      "cell_type": "code",
      "source": [
        "decode_review(train_data[0])"
      ],
      "execution_count": 11,
      "outputs": [
        {
          "output_type": "execute_result",
          "data": {
            "text/plain": [
              "\"<START> this film was just brilliant casting location scenery story direction everyone's really suited the part they played and you could just imagine being there robert <UNK> is an amazing actor and now the same being director <UNK> father came from the same scottish island as myself so i loved the fact there was a real connection with this film the witty remarks throughout the film were great it was just brilliant so much that i bought the film as soon as it was released for <UNK> and would recommend it to everyone to watch and the fly fishing was amazing really cried at the end it was so sad and you know what they say if you cry at a film it must have been good and this definitely was also <UNK> to the two little boy's that played the <UNK> of norman and paul they were just brilliant children are often left out of the <UNK> list i think because the stars that play them all grown up are such a big profile for the whole film but these children are amazing and should be praised for what they have done don't you think the whole story was so lovely because it was true and was someone's life after all that was shared with us all\""
            ]
          },
          "metadata": {
            "tags": []
          },
          "execution_count": 11
        }
      ]
    },
    {
      "metadata": {
        "id": "SNJazTtJP8HH",
        "colab_type": "code",
        "colab": {}
      },
      "cell_type": "code",
      "source": [
        "train_data = keras.preprocessing.sequence.pad_sequences(train_data,\n",
        "                                                        value=word_index[\"<PAD>\"],\n",
        "                                                        padding='post',\n",
        "                                                        maxlen=256)\n",
        "\n",
        "test_data = keras.preprocessing.sequence.pad_sequences(test_data,\n",
        "                                                       value=word_index[\"<PAD>\"],\n",
        "                                                       padding='post',\n",
        "                                                       maxlen=256)"
      ],
      "execution_count": 0,
      "outputs": []
    },
    {
      "metadata": {
        "id": "6ul6QTixQal0",
        "colab_type": "code",
        "colab": {
          "base_uri": "https://localhost:8080/",
          "height": 34
        },
        "outputId": "decb2a92-85c1-4d8a-8451-ceb94d93c270"
      },
      "cell_type": "code",
      "source": [
        "len(train_data[0]), len(train_data[1])"
      ],
      "execution_count": 13,
      "outputs": [
        {
          "output_type": "execute_result",
          "data": {
            "text/plain": [
              "(256, 256)"
            ]
          },
          "metadata": {
            "tags": []
          },
          "execution_count": 13
        }
      ]
    },
    {
      "metadata": {
        "id": "pBtHyGXlQaqe",
        "colab_type": "code",
        "colab": {
          "base_uri": "https://localhost:8080/",
          "height": 340
        },
        "outputId": "4bdeea38-6ed4-4546-cba6-fb181ae00b77"
      },
      "cell_type": "code",
      "source": [
        "print(train_data[0])"
      ],
      "execution_count": 14,
      "outputs": [
        {
          "output_type": "stream",
          "text": [
            "[   1   14   22   16   43  530  973 1622 1385   65  458 4468   66 3941\n",
            "    4  173   36  256    5   25  100   43  838  112   50  670    2    9\n",
            "   35  480  284    5  150    4  172  112  167    2  336  385   39    4\n",
            "  172 4536 1111   17  546   38   13  447    4  192   50   16    6  147\n",
            " 2025   19   14   22    4 1920 4613  469    4   22   71   87   12   16\n",
            "   43  530   38   76   15   13 1247    4   22   17  515   17   12   16\n",
            "  626   18    2    5   62  386   12    8  316    8  106    5    4 2223\n",
            " 5244   16  480   66 3785   33    4  130   12   16   38  619    5   25\n",
            "  124   51   36  135   48   25 1415   33    6   22   12  215   28   77\n",
            "   52    5   14  407   16   82    2    8    4  107  117 5952   15  256\n",
            "    4    2    7 3766    5  723   36   71   43  530  476   26  400  317\n",
            "   46    7    4    2 1029   13  104   88    4  381   15  297   98   32\n",
            " 2071   56   26  141    6  194 7486   18    4  226   22   21  134  476\n",
            "   26  480    5  144   30 5535   18   51   36   28  224   92   25  104\n",
            "    4  226   65   16   38 1334   88   12   16  283    5   16 4472  113\n",
            "  103   32   15   16 5345   19  178   32    0    0    0    0    0    0\n",
            "    0    0    0    0    0    0    0    0    0    0    0    0    0    0\n",
            "    0    0    0    0    0    0    0    0    0    0    0    0    0    0\n",
            "    0    0    0    0]\n"
          ],
          "name": "stdout"
        }
      ]
    },
    {
      "metadata": {
        "id": "Md1bzyroQbRc",
        "colab_type": "code",
        "colab": {
          "base_uri": "https://localhost:8080/",
          "height": 272
        },
        "outputId": "06f3e8b1-81fc-4aac-bb3a-ce95c8a97771"
      },
      "cell_type": "code",
      "source": [
        "# input shape is the vocabulary count used for the movie reviews (10,000 words)\n",
        "vocab_size = 10000\n",
        "\n",
        "model = keras.Sequential()\n",
        "model.add(keras.layers.Embedding(vocab_size, 16))\n",
        "model.add(keras.layers.GlobalAveragePooling1D())\n",
        "model.add(keras.layers.Dense(16, activation=tf.nn.relu))\n",
        "model.add(keras.layers.Dense(1, activation=tf.nn.sigmoid))\n",
        "\n",
        "model.summary()"
      ],
      "execution_count": 17,
      "outputs": [
        {
          "output_type": "stream",
          "text": [
            "_________________________________________________________________\n",
            "Layer (type)                 Output Shape              Param #   \n",
            "=================================================================\n",
            "embedding_1 (Embedding)      (None, None, 16)          160000    \n",
            "_________________________________________________________________\n",
            "global_average_pooling1d_1 ( (None, 16)                0         \n",
            "_________________________________________________________________\n",
            "dense_2 (Dense)              (None, 16)                272       \n",
            "_________________________________________________________________\n",
            "dense_3 (Dense)              (None, 1)                 17        \n",
            "=================================================================\n",
            "Total params: 160,289\n",
            "Trainable params: 160,289\n",
            "Non-trainable params: 0\n",
            "_________________________________________________________________\n"
          ],
          "name": "stdout"
        }
      ]
    },
    {
      "metadata": {
        "id": "UBMa9UgIQvLk",
        "colab_type": "code",
        "colab": {}
      },
      "cell_type": "code",
      "source": [
        "model.compile(optimizer='adam',\n",
        "              loss='binary_crossentropy',\n",
        "              metrics=['acc'])"
      ],
      "execution_count": 0,
      "outputs": []
    },
    {
      "metadata": {
        "id": "EVfVmYr3QvSc",
        "colab_type": "code",
        "colab": {}
      },
      "cell_type": "code",
      "source": [
        "x_val = train_data[:10000]\n",
        "partial_x_train = train_data[10000:]\n",
        "\n",
        "y_val = train_labels[:10000]\n",
        "partial_y_train = train_labels[10000:]"
      ],
      "execution_count": 0,
      "outputs": []
    },
    {
      "metadata": {
        "id": "YW3MFvvJQvV0",
        "colab_type": "code",
        "colab": {
          "base_uri": "https://localhost:8080/",
          "height": 1465
        },
        "outputId": "b637ec61-6b50-46aa-9d3d-131d229890c7"
      },
      "cell_type": "code",
      "source": [
        "history = model.fit(partial_x_train,\n",
        "                    partial_y_train,\n",
        "                    epochs=40,\n",
        "                    batch_size=512,\n",
        "                    validation_data=(x_val, y_val),\n",
        "                    verbose=1)"
      ],
      "execution_count": 20,
      "outputs": [
        {
          "output_type": "stream",
          "text": [
            "Train on 15000 samples, validate on 10000 samples\n",
            "WARNING:tensorflow:From /usr/local/lib/python3.6/dist-packages/tensorflow/python/ops/math_ops.py:3066: to_int32 (from tensorflow.python.ops.math_ops) is deprecated and will be removed in a future version.\n",
            "Instructions for updating:\n",
            "Use tf.cast instead.\n",
            "Epoch 1/40\n",
            "15000/15000 [==============================] - 1s 79us/sample - loss: 0.6918 - acc: 0.5704 - val_loss: 0.6898 - val_acc: 0.6443\n",
            "Epoch 2/40\n",
            "15000/15000 [==============================] - 0s 18us/sample - loss: 0.6861 - acc: 0.7167 - val_loss: 0.6822 - val_acc: 0.7372\n",
            "Epoch 3/40\n",
            "15000/15000 [==============================] - 0s 19us/sample - loss: 0.6743 - acc: 0.7552 - val_loss: 0.6674 - val_acc: 0.7558\n",
            "Epoch 4/40\n",
            "15000/15000 [==============================] - 0s 19us/sample - loss: 0.6540 - acc: 0.7613 - val_loss: 0.6443 - val_acc: 0.7606\n",
            "Epoch 5/40\n",
            "15000/15000 [==============================] - 0s 19us/sample - loss: 0.6243 - acc: 0.7904 - val_loss: 0.6133 - val_acc: 0.7821\n",
            "Epoch 6/40\n",
            "15000/15000 [==============================] - 0s 19us/sample - loss: 0.5866 - acc: 0.8095 - val_loss: 0.5767 - val_acc: 0.7986\n",
            "Epoch 7/40\n",
            "15000/15000 [==============================] - 0s 19us/sample - loss: 0.5437 - acc: 0.8219 - val_loss: 0.5359 - val_acc: 0.8158\n",
            "Epoch 8/40\n",
            "15000/15000 [==============================] - 0s 18us/sample - loss: 0.4991 - acc: 0.8409 - val_loss: 0.4963 - val_acc: 0.8277\n",
            "Epoch 9/40\n",
            "15000/15000 [==============================] - 0s 18us/sample - loss: 0.4558 - acc: 0.8551 - val_loss: 0.4590 - val_acc: 0.8393\n",
            "Epoch 10/40\n",
            "15000/15000 [==============================] - 0s 18us/sample - loss: 0.4163 - acc: 0.8675 - val_loss: 0.4272 - val_acc: 0.8471\n",
            "Epoch 11/40\n",
            "15000/15000 [==============================] - 0s 19us/sample - loss: 0.3820 - acc: 0.8769 - val_loss: 0.3998 - val_acc: 0.8562\n",
            "Epoch 12/40\n",
            "15000/15000 [==============================] - 0s 18us/sample - loss: 0.3519 - acc: 0.8858 - val_loss: 0.3780 - val_acc: 0.8595\n",
            "Epoch 13/40\n",
            "15000/15000 [==============================] - 0s 18us/sample - loss: 0.3269 - acc: 0.8917 - val_loss: 0.3587 - val_acc: 0.8664\n",
            "Epoch 14/40\n",
            "15000/15000 [==============================] - 0s 18us/sample - loss: 0.3048 - acc: 0.8973 - val_loss: 0.3447 - val_acc: 0.8694\n",
            "Epoch 15/40\n",
            "15000/15000 [==============================] - 0s 19us/sample - loss: 0.2865 - acc: 0.9017 - val_loss: 0.3330 - val_acc: 0.8719\n",
            "Epoch 16/40\n",
            "15000/15000 [==============================] - 0s 18us/sample - loss: 0.2702 - acc: 0.9075 - val_loss: 0.3235 - val_acc: 0.8737\n",
            "Epoch 17/40\n",
            "15000/15000 [==============================] - 0s 18us/sample - loss: 0.2554 - acc: 0.9121 - val_loss: 0.3156 - val_acc: 0.8758\n",
            "Epoch 18/40\n",
            "15000/15000 [==============================] - 0s 18us/sample - loss: 0.2423 - acc: 0.9173 - val_loss: 0.3087 - val_acc: 0.8793\n",
            "Epoch 19/40\n",
            "15000/15000 [==============================] - 0s 19us/sample - loss: 0.2305 - acc: 0.9203 - val_loss: 0.3031 - val_acc: 0.8805\n",
            "Epoch 20/40\n",
            "15000/15000 [==============================] - 0s 18us/sample - loss: 0.2199 - acc: 0.9237 - val_loss: 0.2992 - val_acc: 0.8800\n",
            "Epoch 21/40\n",
            "15000/15000 [==============================] - 0s 18us/sample - loss: 0.2093 - acc: 0.9289 - val_loss: 0.2958 - val_acc: 0.8814\n",
            "Epoch 22/40\n",
            "15000/15000 [==============================] - 0s 20us/sample - loss: 0.2003 - acc: 0.9308 - val_loss: 0.2925 - val_acc: 0.8838\n",
            "Epoch 23/40\n",
            "15000/15000 [==============================] - 0s 18us/sample - loss: 0.1913 - acc: 0.9356 - val_loss: 0.2911 - val_acc: 0.8837\n",
            "Epoch 24/40\n",
            "15000/15000 [==============================] - 0s 18us/sample - loss: 0.1835 - acc: 0.9393 - val_loss: 0.2893 - val_acc: 0.8857\n",
            "Epoch 25/40\n",
            "15000/15000 [==============================] - 0s 18us/sample - loss: 0.1756 - acc: 0.9433 - val_loss: 0.2872 - val_acc: 0.8848\n",
            "Epoch 26/40\n",
            "15000/15000 [==============================] - 0s 19us/sample - loss: 0.1685 - acc: 0.9458 - val_loss: 0.2876 - val_acc: 0.8841\n",
            "Epoch 27/40\n",
            "15000/15000 [==============================] - 0s 18us/sample - loss: 0.1618 - acc: 0.9482 - val_loss: 0.2866 - val_acc: 0.8850\n",
            "Epoch 28/40\n",
            "15000/15000 [==============================] - 0s 18us/sample - loss: 0.1554 - acc: 0.9517 - val_loss: 0.2870 - val_acc: 0.8858\n",
            "Epoch 29/40\n",
            "15000/15000 [==============================] - 0s 18us/sample - loss: 0.1498 - acc: 0.9545 - val_loss: 0.2880 - val_acc: 0.8834\n",
            "Epoch 30/40\n",
            "15000/15000 [==============================] - 0s 19us/sample - loss: 0.1440 - acc: 0.9555 - val_loss: 0.2872 - val_acc: 0.8861\n",
            "Epoch 31/40\n",
            "15000/15000 [==============================] - 0s 18us/sample - loss: 0.1380 - acc: 0.9592 - val_loss: 0.2879 - val_acc: 0.8866\n",
            "Epoch 32/40\n",
            "15000/15000 [==============================] - 0s 18us/sample - loss: 0.1327 - acc: 0.9608 - val_loss: 0.2891 - val_acc: 0.8864\n",
            "Epoch 33/40\n",
            "15000/15000 [==============================] - 0s 19us/sample - loss: 0.1275 - acc: 0.9630 - val_loss: 0.2910 - val_acc: 0.8868\n",
            "Epoch 34/40\n",
            "15000/15000 [==============================] - 0s 18us/sample - loss: 0.1229 - acc: 0.9648 - val_loss: 0.2929 - val_acc: 0.8850\n",
            "Epoch 35/40\n",
            "15000/15000 [==============================] - 0s 18us/sample - loss: 0.1187 - acc: 0.9652 - val_loss: 0.2948 - val_acc: 0.8871\n",
            "Epoch 36/40\n",
            "15000/15000 [==============================] - 0s 18us/sample - loss: 0.1140 - acc: 0.9682 - val_loss: 0.2964 - val_acc: 0.8856\n",
            "Epoch 37/40\n",
            "15000/15000 [==============================] - 0s 19us/sample - loss: 0.1095 - acc: 0.9695 - val_loss: 0.2989 - val_acc: 0.8856\n",
            "Epoch 38/40\n",
            "15000/15000 [==============================] - 0s 19us/sample - loss: 0.1054 - acc: 0.9710 - val_loss: 0.3022 - val_acc: 0.8834\n",
            "Epoch 39/40\n",
            "15000/15000 [==============================] - 0s 19us/sample - loss: 0.1022 - acc: 0.9719 - val_loss: 0.3055 - val_acc: 0.8837\n",
            "Epoch 40/40\n",
            "15000/15000 [==============================] - 0s 19us/sample - loss: 0.0980 - acc: 0.9738 - val_loss: 0.3079 - val_acc: 0.8842\n"
          ],
          "name": "stdout"
        }
      ]
    },
    {
      "metadata": {
        "id": "r4zslVG3Q44j",
        "colab_type": "code",
        "colab": {
          "base_uri": "https://localhost:8080/",
          "height": 51
        },
        "outputId": "c243c6c2-cf56-4062-fd11-907d1a203b5d"
      },
      "cell_type": "code",
      "source": [
        "results = model.evaluate(test_data, test_labels)\n",
        "\n",
        "print(results)"
      ],
      "execution_count": 21,
      "outputs": [
        {
          "output_type": "stream",
          "text": [
            "25000/25000 [==============================] - 1s 57us/sample - loss: 0.3285 - acc: 0.8719\n",
            "[0.3285116417217255, 0.87192]\n"
          ],
          "name": "stdout"
        }
      ]
    },
    {
      "metadata": {
        "id": "UgGTskfrQ4-U",
        "colab_type": "code",
        "colab": {
          "base_uri": "https://localhost:8080/",
          "height": 34
        },
        "outputId": "84e28d29-3789-4315-d709-a71daacb1f73"
      },
      "cell_type": "code",
      "source": [
        "history_dict = history.history\n",
        "history_dict.keys()"
      ],
      "execution_count": 22,
      "outputs": [
        {
          "output_type": "execute_result",
          "data": {
            "text/plain": [
              "dict_keys(['loss', 'acc', 'val_loss', 'val_acc'])"
            ]
          },
          "metadata": {
            "tags": []
          },
          "execution_count": 22
        }
      ]
    },
    {
      "metadata": {
        "id": "Zk3zCqUjQ9oz",
        "colab_type": "code",
        "colab": {
          "base_uri": "https://localhost:8080/",
          "height": 295
        },
        "outputId": "181b3dac-4b87-4600-e7d5-4c4bbacb25e8"
      },
      "cell_type": "code",
      "source": [
        "import matplotlib.pyplot as plt\n",
        "\n",
        "acc = history_dict['acc']\n",
        "val_acc = history_dict['val_acc']\n",
        "loss = history_dict['loss']\n",
        "val_loss = history_dict['val_loss']\n",
        "\n",
        "epochs = range(1, len(acc) + 1)\n",
        "\n",
        "# \"bo\" is for \"blue dot\"\n",
        "plt.plot(epochs, loss, 'bo', label='Training loss')\n",
        "# b is for \"solid blue line\"\n",
        "plt.plot(epochs, val_loss, 'b', label='Validation loss')\n",
        "plt.title('Training and validation loss')\n",
        "plt.xlabel('Epochs')\n",
        "plt.ylabel('Loss')\n",
        "plt.legend()\n",
        "\n",
        "plt.show()"
      ],
      "execution_count": 23,
      "outputs": [
        {
          "output_type": "display_data",
          "data": {
            "image/png": "[encoded data removed]",
            "text/plain": [
              "<Figure size 432x288 with 1 Axes>"
            ]
          },
          "metadata": {
            "tags": []
          }
        }
      ]
    },
    {
      "metadata": {
        "id": "FzeLGPDMQ9wT",
        "colab_type": "code",
        "colab": {
          "base_uri": "https://localhost:8080/",
          "height": 295
        },
        "outputId": "e8a0b885-ec9c-4de1-92af-a6a93cd3d34e"
      },
      "cell_type": "code",
      "source": [
        "plt.clf()   # clear figure\n",
        "\n",
        "plt.plot(epochs, acc, 'bo', label='Training acc')\n",
        "plt.plot(epochs, val_acc, 'b', label='Validation acc')\n",
        "plt.title('Training and validation accuracy')\n",
        "plt.xlabel('Epochs')\n",
        "plt.ylabel('Accuracy')\n",
        "plt.legend()\n",
        "\n",
        "plt.show()"
      ],
      "execution_count": 24,
      "outputs": [
        {
          "output_type": "display_data",
          "data": {
            "image/png": "[encoded data removed]",
            "text/plain": [
              "<Figure size 432x288 with 1 Axes>"
            ]
          },
          "metadata": {
            "tags": []
          }
        }
      ]
    }
  ]
}